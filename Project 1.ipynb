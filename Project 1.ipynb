{
 "cells": [
  {
   "cell_type": "markdown",
   "metadata": {
    "deletable": true,
    "editable": true
   },
   "source": [
    "Project 1: RC Circuits\n",
    "======================\n",
    "\n",
    "The purpose of this project is twofold:\n",
    "\n",
    "1. to familiarize yourself with some of the tools we'll be using in this course: the Arduino compiler, simulator and microcontroller, electronic breadboards, iPython notebooks and\n",
    "    \n",
    "2. to remind yourself of the general behavior of \"RC\" circuits. \n",
    "\n",
    "As you progress through the project please be sure to ask questions and get help if you are confused or unclear on how to proceed. Since most students taking this course have used python in intro physics, and have at least one course in programming computers in \"c\" or \"c++\". As a result the treatment of those topics will be fairly brief. If you have not use python and/or c/c++ before please alert your instructor and they will provide you with extra materials and instruction as necessary.\n",
    "\n",
    "Here are some references you may find helpful:\n",
    "\n",
    "1. Dive into python (intro to the python language) <http://python.org>\n",
    "2. Arduino Simulator <http://123dcircuits.io> (this simulator also simulates componenets and breadboards!)\n",
    "3. Arduino programming <http://arduino.cc>\n",
    "\n",
    "Also, please watch the video on YouTube in which I walk you through this handout and demonstrate the use of this notebook, the Arduino compiler and the Arduino simulator.\n",
    "\n",
    "Charging and Discharging Capacitors\n",
    "---------------------------------\n",
    "\n",
    "Let's start with RC Circuits. Suppose we have a charging circuit like that shown in Fig 1.\n",
    "\n",
    "<div align=\"center\">\n",
    "<img src=\"circ.png\" width=\"300\">\n",
    "<span>Fig 1: A typical RC circuit</span>\n",
    "</div>\n",
    "\n",
    "Where the voltage source (V1 in Fig. 1) can be turned on and off periodicallly. This produces a current that alternately charges and discharges the capacitor. Suppose the voltage supplied by V1 is 10V when it's \"on\" and 0V when it's \"off\". If we assume the capacitor is initially uncharged when V1 is first turned on, there will be a potential drop of 10V across the resistor R1 initially. This will produce an initial current of 10V/10k$\\Omega$ = 1mA. As the capacitor charges this current will diminish, approaching zero in a few RC time constants (in this case, as you can see from Fig. 1, RC=50ms). If the source is set up to toggle between \"on\" and \"off\" every 500ms, there will be ample time for the capacitor to become very nearly fully charged before the voltage toggles to \"off\". When the voltage does toggle \"off\" the current will flow in the opposite direction slowly draining the charge on the capacitor. As you learned in intro physics the voltage on the capacitor as a function of time during the charging and discharging cycles is exponential (see e.g., Chabay & Sherwood, Matter and Interactions, vII, 4th ed, p785).\n",
    "\n",
    "\\begin{equation}\n",
    "V(t) = V_0\\left(1-e^{-t/RC}\\right); {\\rm (charging)}\\\\\\\n",
    "V(t) = V_0 e^{-t/RC}; {\\rm (discharging)}\n",
    "\\end{equation}\n",
    "\n",
    "Let's use some python to visualize this result. "
   ]
  },
  {
   "cell_type": "code",
   "execution_count": 1,
   "metadata": {
    "collapsed": false,
    "deletable": true,
    "editable": true
   },
   "outputs": [
    {
     "name": "stdout",
     "output_type": "stream",
     "text": [
      "Populating the interactive namespace from numpy and matplotlib\n"
     ]
    },
    {
     "data": {
      "text/plain": [
       "[<matplotlib.lines.Line2D at 0x10788f2b0>]"
      ]
     },
     "execution_count": 1,
     "metadata": {},
     "output_type": "execute_result"
    },
    {
     "data": {
      "image/png": "[encoded data removed]",
      "text/plain": [
       "<matplotlib.figure.Figure at 0x107472cf8>"
      ]
     },
     "metadata": {},
     "output_type": "display_data"
    }
   ],
   "source": [
    "# invoke the pylab magic to get access to plotting/array tools\n",
    "#\n",
    "%pylab inline   \n",
    "\n",
    "#\n",
    "# Set up some constants\n",
    "#\n",
    "V0=10.0 # Volts\n",
    "R1=10e3 # Ohms\n",
    "C1=5e-6 # Farads\n",
    "\n",
    "\"\"\"\n",
    "for the first 0.25 sec we'll be charging.\n",
    "\"\"\"\n",
    "t1 = linspace(0, 0.25, 100)     # time array, 100 values evenly spaced beteen 0 and 0.25 seconds\n",
    "Vc = V0*(1.0-exp(-t1/(R1*C1)))  # array of voltages on the capacitor at different times\n",
    "xlabel('time (s)')              # make the graph purty, give it x and y labls and a title\n",
    "ylabel('capacitor voltage (V)')\n",
    "title(\"Voltage on capacitor during charging cycle\")\n",
    "grid()                          # add a grid so it's easier to read\n",
    "plot(t1, Vc, 'b-')              # plot the data, t1 on the horizontal, Vc on the vertical, using a blue line"
   ]
  },
  {
   "cell_type": "markdown",
   "metadata": {
    "deletable": true,
    "editable": true
   },
   "source": [
    "You can see how the capacitor voltage is very close to 10V at the end of the 250ms charging cycle. "
   ]
  },
  {
   "cell_type": "code",
   "execution_count": 3,
   "metadata": {
    "collapsed": false,
    "deletable": true,
    "editable": true
   },
   "outputs": [
    {
     "name": "stdout",
     "output_type": "stream",
     "text": [
      "9.93262053001\n"
     ]
    }
   ],
   "source": [
    "Vf = Vc[-1]   # take the last voltage in the Vc array and check it. Note that a '-1' index gets the last value\n",
    "print(Vf)"
   ]
  },
  {
   "cell_type": "markdown",
   "metadata": {
    "deletable": true,
    "editable": true
   },
   "source": [
    "So, the voltage on the capacitor is about 68mV shy of 10V. Or, if you'd like (using a cash analog) we could've gotten up to a \\$10 reward, but we still have a mere 7 cents to go.\n",
    "\n",
    "Close!\n",
    "\n",
    "What about the discharging?"
   ]
  },
  {
   "cell_type": "code",
   "execution_count": 4,
   "metadata": {
    "collapsed": false,
    "deletable": true,
    "editable": true
   },
   "outputs": [
    {
     "name": "stdout",
     "output_type": "stream",
     "text": [
      "The final voltage after 250ms of discharge is: 0.0669254706932\n"
     ]
    },
    {
     "data": {
      "image/png": "[encoded data removed]",
      "text/plain": [
       "<matplotlib.figure.Figure at 0x10785d3c8>"
      ]
     },
     "metadata": {},
     "output_type": "display_data"
    }
   ],
   "source": [
    "Vc2 = Vf*exp(-t1/(R1*C1))       # compute the voltage during the discharge cycle.\n",
    "xlabel('time (s)')              # make the graph purty\n",
    "ylabel('capacitor voltage (V)')\n",
    "title(\"Voltage on capacitor during discharge cycle\")\n",
    "grid()\n",
    "plot(t1, Vc2, 'b-') # plot the data, t1 on the horizontal, Vc2 on the vertical using a blue line\n",
    "\n",
    "Vf2 = Vc2[-1] # take the last voltage\n",
    "print(\"The final voltage after 250ms of discharge is:\", Vf2)"
   ]
  },
  {
   "cell_type": "markdown",
   "metadata": {
    "deletable": true,
    "editable": true
   },
   "source": [
    "Again (using a cash analog), here we started with \\$9.93 and we ended up with less than 7 cents in the end. \n",
    "\n",
    "Practically nothing. ;-)\n",
    "\n",
    "You should familiarize yourself with these equations. Here are some questions to help you check your understanding:\n",
    "\n",
    "1. What is the voltage on the capacitor at 0.1s after the voltage source turns \"on\"? (ans 8.65V)\n",
    "\n",
    "2. What is the voltage on the capacitor at 0.15s after the voltage source turns \"off\"? (ans 0.50V)\n",
    "\n",
    "3. How long after the voltage source turns \"on\" does the voltage on the capacitor reach 5V? (ans 0.035s)\n",
    "\n",
    "4. How long after the voltage source turns \"off\" does the voltage on the capacitor reach 2V? (ans 0.080s)"
   ]
  },
  {
   "cell_type": "markdown",
   "metadata": {
    "deletable": true,
    "editable": true
   },
   "source": [
    "This week we'll be using the Arduino <http://arduino.cc> microcontroller to charge and discharge\n",
    "a capacitor $C_1$ through a resistance $R_1$ and measure the response. As a side effect you'll\n",
    "get some experience using the Arduino editor/compiler.\n",
    "\n",
    "I would encourage you to try out the Arduino simulator at <http://123dcircuits.com> to test that your circuit works. "
   ]
  },
  {
   "cell_type": "markdown",
   "metadata": {
    "deletable": true,
    "editable": true
   },
   "source": [
    "Arduino Programming\n",
    "------------------\n",
    "\n",
    "If you open the Arduino IDE and choose File -> Examples -> Basic -> Blink you'll find this code in your IDE window:\n",
    "\n",
    "    /*\n",
    "      Blink\n",
    "      Turns on an LED on for one second, then off for one second, repeatedly.\n",
    "\n",
    "      Most Arduinos have an on-board LED you can control. On the Uno and\n",
    "      Leonardo, it is attached to digital pin 13. If you're unsure what\n",
    "      pin the on-board LED is connected to on your Arduino model, check\n",
    "      the documentation at http://arduino.cc\n",
    "\n",
    "      This example code is in the public domain.\n",
    "\n",
    "      modified 8 May 2014\n",
    "      by Scott Fitzgerald\n",
    "     */\n",
    "\n",
    "\n",
    "    // the setup function runs once when you press reset or power the board\n",
    "    void setup() {\n",
    "      // initialize digital pin 13 as an output.\n",
    "      pinMode(13, OUTPUT);\n",
    "    }\n",
    "\n",
    "    // the loop function runs over and over again forever\n",
    "    void loop() {\n",
    "      digitalWrite(13, HIGH);   // turn the LED on (HIGH is the voltage level)\n",
    "      delay(1000);              // wait for a second\n",
    "      digitalWrite(13, LOW);    // turn the LED off by making the voltage LOW\n",
    "      delay(1000);              // wait for a second\n",
    "    }\n",
    "    \n",
    "You can actually run this on your Arduino right away! Make sure you go to Tools -> Board and select the correct Arduino type. Then go to \"Tools -> Port\" and select the serial port to which your Arduino is assigned. (If you diconnect, then check \"Tools -> Port\", then reconnect and check \"Tools -> Port\" again you shoud be able to see which is the \"new\" port in the list the corresponds to your Arduino.)\n",
    "\n",
    "Let's go through this code and describe what's happening.\n",
    "\n",
    "If you've already taken \"c/c++\" programming you'll be familiar with most of these ideas right away. If you've not taken a programming course you may need some extra support/documentation. Please see me if this is the case and I'll be sure to provide some additional resources.\n",
    "\n",
    "First the program is processed by a 'compiler' that reads the text and interprets it as a set of steps to be translated into machine instructions for the microcontroller. Lines in the text that start with a \"#\" are meant to be processed *before* the translation process begins, so these are called \"compiler directives\" rather than instructions.\n",
    "\n",
    "Next, anything between '/*' and '*/' is a comment. Anything after '//' on a line, is a comment.\n",
    "\n",
    "There are two critical functions in an Ardiuno program 'setup' and 'loop'. \n",
    "\n",
    "Setup\n",
    "-----\n",
    "\n",
    "The 'setup' function is executed any time the Arduino is reset. This happens:\n",
    "\n",
    "1. when you upload a new program \n",
    "2. when you first connect with a serial port  \n",
    "3. when you push the reset button, or \n",
    "4. when ground the reset pin.\n",
    "\n",
    "\n",
    "Let's look at the setup function for this example. Note that it only does one thing: declare that pin 13 on the Arduino is going to be used for output.  It turns out pin 13 on most Arduinos is connected to an LED, so when the pin goes high, you can see light. Other things that typically happen in setup are initialization of variables, arrays, setting various ports' intial values and generally getting things ready to go.\n",
    "\n",
    "    void setup() {\n",
    "      // initialize digital pin 13 as an output.\n",
    "      pinMode(13, OUTPUT);\n",
    "    }\n",
    "\n",
    "Loop\n",
    "----\n",
    "\n",
    "The 'loop' function is called immediately after 'setup'. After loop completes it is called again, and again, and again, forever (or until power is removed/lost, or the board is reset). The loop function is where most of the work of the program happens.\n",
    "\n",
    "    void loop() {\n",
    "      digitalWrite(13, HIGH);   // turn the LED on (HIGH is the voltage level)\n",
    "      delay(1000);              // wait for a second\n",
    "      digitalWrite(13, LOW);    // turn the LED off by making the voltage LOW\n",
    "      delay(1000);              // wait for a second\n",
    "    }\n",
    "\n",
    "This program's 'loop' function first sets pin 13 high, waits for 1 sec, then sets pin 13 low, waits another second, then exits. This lights the LED, then turns it off, over and over, each second, forever. Notice that this is a *lot* like the voltage source in our example circuit! In fact, that similarity is exactly what we'll use to develop this project."
   ]
  },
  {
   "cell_type": "markdown",
   "metadata": {
    "deletable": true,
    "editable": true
   },
   "source": [
    "Basic Concepts in \"c\"\n",
    "===========\n",
    "\n",
    "In case you're not very familiar with the \"c\" programming language, these explanations may help get you up to speed.\n",
    "\n",
    "Macros\n",
    "------\n",
    "\n",
    "In the example program there is a line:\n",
    "\n",
    "    digitalWrite(13, HIGH);   // turn the LED on (HIGH is the voltage level)\n",
    "\n",
    "it's a bit hard to tell what's going on. The reader may not remember/realize that pin 13 is connected to the built-in LED on the Arduino. Wouldn't it be nice if we could communicate that to them in some simple way? That's one of the most useful applications of a commonly used compiler directive called a \"macro\". You can create your own macros (I like to do this at the very beginning of my programs, so they are easy to find). Here's how it works:\n",
    "\n",
    "    #define LED 13            // Pin 13 is the LED\n",
    "    \n",
    "The first character on the line is '#', which tells the compiler that it's a special directive, not a step in the program. The 'define' means we're defining a macro, in this case a constant. When the compiler sees this macro it then knows that anywhere in the program that has 'LED' it's to be replaced by the value '13'. Then our digitalWrite function call looks like this:\n",
    "\n",
    "    digitalWrite(LED, HIGH);   // turn the LED on (HIGH is the voltage level)\n",
    "    \n",
    "Isn't that clearer? Of course it is. ;-) Below is a list of macros that we can use to define constants needed by the program to run project 1.\n",
    "\n",
    "    #define OUTPIN 3          // apply output voltage to pin 3\n",
    "    #define IN_ANALOG 0       // which analog pin are we reading?\n",
    "    #define NUMVALUES 40      // how much data to collect?\n",
    "    #define STARTUP_DELAY 500 // how long to hold voltage high initially\n",
    "    #define DECAY_DELAY   10  // how long to measure\n",
    "    #define LOOP_DELAY 500    // how many millis to delay each time\n",
    "    \n",
    "Because these definitions are constant, they can't be changed during execution. It is a convention to use all upper case characters in the names of constants so the reader can tell that these things are not variable in the context in which they appear.\n",
    "    \n",
    "Variables\n",
    "---------\n",
    "\n",
    "Most programs need some values that can change. These are *variables*. A variable needs to be decared with a type and within a scope. The *type* of a variable determines the amount of memory required for the variable's value and the scope determines the times during which the variable is needed during program execution. Basically if the variable is declared outside of any function, it's scope is *global* and it is always available. If it is declared within a function it's scope is *local* (only within the function). It's memory is 'allocated' within the function, and 'released' outside the function. Let's look at an example:\n",
    "\n",
    "    int x;\n",
    "\n",
    "This declares `x` to be an integer (16 bits on the Arduino) and since it's not inside a function, it's scope is global. Here's another:\n",
    "\n",
    "    int foo(int y) {\n",
    "        int x=y;\n",
    "        \n",
    "        if (y>9) {\n",
    "            x = 3*y;\n",
    "        }\n",
    "        \n",
    "        return 100 - x;\n",
    "    }\n",
    "\n",
    "Here `x` is a local variable that is only defined within the function `foo`. You can see that it is used as a part of computing the result of the function. If you tried to access the value of `x` outside this function the compiler would complain that `x` is undefined.\n",
    "\n",
    "Arrays\n",
    "------\n",
    "\n",
    "An array is a collection of memory of a particular type. An array is declared using square brakets: `[]` like so:\n",
    "\n",
    "    int myArray[16];\n",
    "    \n",
    "this would allocated an array called `myArray` with space for 16 integers. You can access individual elements within the array by using that particular element's address or `index`. The index values start at zero and go up to one less than the number of elements, in this case, 15. For example to set the `zeroth` element of `myArray` to 9 you'd use:\n",
    "\n",
    "    myArray[0] = 9;\n",
    "    \n",
    "An array element can be use just like a normal variable. We will find an array useful so that we can aqcuire and save data quickly.\n",
    "\n",
    "Handling Conditions\n",
    "------------------\n",
    "\n",
    "Sometimes we want one thing to happen `if` a variable has one value, and something `else` to happen if it has a different value. This is most easily accomplished using an `if` statement. Here is a simple example. Suppose we have a heater and a temperature sensor. We decide that we want the heater to run if the temperature sensor measures any voltage *below* 0.488V, and we want to turn it off if it measures *above* 0.488V. Suppose further that the temperature sensor is connected to analog input pin 0, and the heater is connected to digital output pin 3. This code would do the trick:\n",
    "\n",
    "    #define IN_ANALOG 0\n",
    "    #define OUT_DIGITAL 3\n",
    "    \n",
    "    int val;  // val will get the integer representation of the input voltage\n",
    "    \n",
    "    val = analogRead(IN_ANALOG);  // read current value on IN_ANALOG pin, val is between 0 and 1023.\n",
    "\n",
    "    if (val < 100) {\n",
    "        Serial.println(\"Voltage is below 0.488 Volts\");\n",
    "        digitalWrite(OUT_DIGITAL, HIGH);  // turn the heater on\n",
    "    } else {\n",
    "        Serial.println(\"Volgate is above 0.488 Volts\");\n",
    "        digitalWrite(OUT_DIGITAL, LOW);   // turn the heater off\n",
    "    }\n",
    "\n",
    "The `AnalogRead` function is used to measure analog voltages on the analog input pins of the Arduino Microcontroller. Voltages bewteen 0.0V and 5.0V are mapped onto integer values between 0 and 1023. The `DigitalWrite` function sets an output pin `high` (which is 5.0V) or `low` (which is 0.0V) as shown. This example sets pin 3 high (5V) if the voltage on analog input 0 is below 0.488 Volts and sets pin 3 low (0V) if the voltage on analog input 0 is above 0.488 V. \n",
    "\n",
    "For Loops\n",
    "---------\n",
    "\n",
    "There are several different ways to create looping behaviors in \"c\", but the most common is the `for` loop. Here is an example `for` loop that sets all the elements of `myArray` to zero.\n",
    "\n",
    "    #define N 16\n",
    "\n",
    "    int i;\n",
    "    int myArray[N];\n",
    "    \n",
    "    for (i=0; i<N; i++) {\n",
    "        myArray[i] = 0;\n",
    "    }\n",
    "    \n",
    "The `for` loop begins with `for` and contains a set of three expressions (clauses) separated by semi-colons. The three expressions:\n",
    "\n",
    "1. initialize the loop control variable(s), `(i=0)`\n",
    "2. check to see if the loop should continue and `(i<N)`\n",
    "3. update the loop control variables `(i++)`\n",
    "\n",
    "respectively. Let's look at those parts one at a time. First `i` is initialized to zero. This way we know where things are starting. Since the goal of this loop is to set all the elements of `myArray` to zero this means we'll be starting with the `zeroth` element. Before the loop exectutes each iteration it evaluates the middle clause to see if it should continue execution. In this case it checks to see if `i<N`. Since `N` is `#define`ed to be 16, this is checking to make sure `i<16`. The first time through the loop `i=0` so this is clearly satisfied. Remeber that the last element of the array has an index `i=15` so checking that `i<16` will allow no higher index than this. Good! Each time the loop completes the `update` clause `(i++)` is exectuted. `i++` is shorthand in \"c\" for `i=i+1`. This increments the loop control variable `i` by one at the end of each iteration. Note the net effect is that the loop is exectuted once for each value of `i` from `i=0` to `i=15`.\n",
    "\n",
    "Functions\n",
    "---------\n",
    "\n",
    "A function is a body of code that encapsulates some operation. Sometimes functions produce a result that is desired, sometimes they produce side effects that are needed. Here is an example function that produces a result:\n",
    "\n",
    "    int foo(x) {\n",
    "        return 3*x;\n",
    "    }\n",
    "    \n",
    "The function `foo` accepts an integer argument and returns a result that is three times the value of the argument passed. Yes, it's a silly function, but you get the idea. Here is a function that has a side effect:\n",
    "\n",
    "    void updateHeater(int threshold) {\n",
    "        int val;  // val will get the integer representation of the input voltage\n",
    "\n",
    "        val = analogRead(IN_ANALOG);  // read current value on IN_ANALOG pin, val is between 0 and 1023.\n",
    "\n",
    "        if (val < threshold) {\n",
    "            digitalWrite(OUT_DIGITAL, HIGH);  // turn the heater on if val < threshold\n",
    "        } else {\n",
    "            digitalWrite(OUT_DIGITAL, LOW);   // otherwise turn the heater off\n",
    "        }\n",
    "    }\n",
    "\n",
    "So you can call `updateHeater(100)` and it will turn the heater on or off based on a threshold of 100. Note that as a general rule of coding *style* it's preferable to create functions that\n",
    "\n",
    "1. return a result, but have no side effects OR\n",
    "2. have side effects, but return no result\n",
    "\n",
    "\n",
    "Communication\n",
    "------------\n",
    "\n",
    "You can send and receive data over the serial port using the [Serial object](https://www.arduino.cc/en/Reference/Serial) on the Arduino. We'll learn more of the details as the course continues. For this week we only need two functions: `print` [(documentation)](https://www.arduino.cc/en/Serial/Print) and: `println` [(documentation)](https://www.arduino.cc/en/Serial/Println). The primary difference between these is that the `println` version sends a carriage return/linefeed so that the next thing printed will be on a new line. You can print(ln) any single value, integer, float or a string of characters. For floating point values you can specify the number of digits past the decimal point as an optional second argument. So, the following program:\n",
    "\n",
    "    int x=3;\n",
    "    float y=2.345;\n",
    "\n",
    "    void setup() {\n",
    "      Serial.begin(9600);\n",
    "      Serial.print(\"The answer is:\");\n",
    "      Serial.print(x);\n",
    "      Serial.print(\",\");\n",
    "      Serial.println(y, 2);\n",
    "    }\n",
    "\n",
    "would print out:\n",
    "\n",
    "    The answer is:3,2.35\n",
    "\n",
    "Note that the floating point value is rounded to 2 digits as requested.   \n"
   ]
  },
  {
   "cell_type": "markdown",
   "metadata": {
    "deletable": true,
    "editable": true
   },
   "source": [
    "Coding Project 1\n",
    "=========\n",
    "\n",
    "The code for Project 1 is pretty much all sprinkled around within this explanation so you don't have to write anything completely from scratch this week, however you do need to *understand* the parts and assemble them into a complete working program. As the course progresses you'll be expected to produce more and more of the needed code yourself. Of course, if you are already anexperienced code jockey, please feel free to start from scratch and do things your own way!\n",
    "\n",
    "First let's define some constants\n",
    "\n",
    "    #define LED 13            // the LED is on pin 13\n",
    "    #define OUTPIN 3          // apply output voltage to pin 3\n",
    "    #define IN_ANALOG 0       // which analog pin are we reading?\n",
    "    #define NUMVALUES 40      // how much data to collect?\n",
    "    #define STARTUP_DELAY 500 // how long to hold voltage high initially\n",
    "    #define DECAY_DELAY   10  // how long to measure\n",
    "    #define LOOP_DELAY 500    // how many millis to delay each time\n",
    "\n",
    "This first block just defines some constants that we'll use in the program. Note that `#define` is \n",
    "processed by the compiler, not the arduino, so these definitions will only work for values that remain\n",
    "constant throughout the life of the program.\n",
    "\n",
    "Next come global variable declarations:\n",
    "\n",
    "    int data[NUMVALUES];  // data from analog input\n",
    "    int times[NUMVALUES]; // times from millis() function\n",
    "    short flag=0;         // flag to check for first time\n",
    "\n",
    "The `data` array will hold the data we collect from the analog port (IN_ANALOG) while the charge on the capacitor is decaying.\n",
    "\n",
    "The `flag` variable keeps track of which iteration of 'loop' we're on at any time. The idea is that there are three steps in this program:\n",
    "\n",
    "1. Charge the capactor by setting the output pin high and wait for STARTUP_DELAY milleseconds, then set pin low and measure the voltage on the capacitor as it discharges,\n",
    "2. Send the data that was collected to the serial port,\n",
    "3. Flash the LED periodically to indicate the program is complete.\n",
    "\n",
    "During step `1` flag will be set to `0`. At the end of step `1` flag is set to `1` to indicate that step one is complete and it's time to execute step 2. During step 2 the data sent, via the serial port, to a connected device (probably your laptop). At the end of step `2` flag is set to `2` to indicate that step one is complete and it's time to execute step 3. If the `loop` function sees that flag is set to `2` then it's time to flash the LED forever, similar to the `blink` program.\n",
    "\n",
    "When the Arduino is powered on, or the \"reset\" button is presses, or you load a new program, the first\n",
    "thing that happens is the 'setup' function is executed:\n",
    "\n",
    "    // the setup routine runs once when you press reset:\n",
    "\n",
    "    void setup()\n",
    "    {\n",
    "        Serial.begin(9600);       // setup serial port at 9600 bits per second (bps):\n",
    "        pinMode(LED, OUTPUT);     // digital sensor is on digital pin 2\n",
    "        pinMode(OUTPIN, OUTPUT);  // set OUTPIN output pin for output\n",
    "        flag=0;                   // initialize flag to zero for step 1.\n",
    "    }\n",
    "\n",
    "In this case we declare that the LED pin and the OUTPIN pins will be outputs and the 'flag' variable will begin life\n",
    "with a value of '0'.\n",
    "\n",
    "After `startup()` is called the Arduino will repeatedly call `loop()` forever. Let's look at `loop()`:\n",
    "\n",
    "    // the \"loop\" routine runs over and over again forever:\n",
    "    \n",
    "    void loop() {\n",
    "        if (flag==0) {\n",
    "            digitalWrite(OUTPIN, HIGH);  // set output high\n",
    "            delay(STARTUP_DELAY);         // wait for cap to charge\n",
    "            digitalWrite(OUTPIN, LOW);\n",
    "            collectData((int)((1000.0*DECAY_DELAY)/NUMVALUES));\n",
    "            flag=1;\n",
    "        }\n",
    "        else if (flag==1) {\n",
    "            printData();\n",
    "            flag=2;\n",
    "        }\n",
    "        else {\n",
    "            digitalWrite(LED, HIGH);   // turn the LED on (HIGH is the voltage level)\n",
    "            delay(LOOP_DELAY);         // wait for LOOP_DELAY seconds\n",
    "            digitalWrite(LED, LOW);    // turn the LED off by making the voltage LOW\n",
    "            delay(LOOP_DELAY);         // wait for LOOP_DELAY seconds\n",
    "        }\n",
    "    }\n",
    "\n",
    "The first time through we have `flag==0`. The `OUTPIN` pin is set high (5V), we wait `LOOP_DELAY` milliseconds\n",
    "then bring the `OUTPIN` pin low (0V). Then the `collectData` function is called (more on that in a bit) and \n",
    "finally `flag` is set to 1.\n",
    "\n",
    "The next time through the `printData` function is called (more on that in a bit, as well) and `flag` is set to 2.\n",
    "\n",
    "The next time, and every time thereafter, the `LED` pin is set high, then low, forever.\n",
    "\n",
    "The collectData function is defined like so:\n",
    "\n",
    "    void collectData(int delayMicros) {\n",
    "        for (int i=0; i<NUMVALUES; i++) {\n",
    "            times[i]=millis();               // record the actual time of measurement in ms.\n",
    "            data[i]=analogRead(IN_ANALOG);   // read the analog port\n",
    "            delayMicroseconds(delayMicros);  // wait a bit before the next measurement\n",
    "        }\n",
    "    }\n",
    "\n",
    "`data` is an array of integers, so data[0], data[1], etc. are the data we're collecting. Note that the analogRead returns an integer which corresponds to 0 for Vin=0.0 Volts and 1023 for Vin=5.0 Volts. `times` is another array of integers that will record the number of milliseconds since the Arduino was started. This will give us a record of when each measurement was actually taken.\n",
    "\n",
    "Note that we're using a for loop (ask about this if you're not familiar!) to iterate through all values of the index\n",
    "reading from the analog port each time and saving the value read into the array.\n",
    "\n",
    "the `printData` is defined as:\n",
    "\n",
    "    void printData() {\n",
    "        Serial.println(\"time,voltage\");\n",
    "        for (int i=0; i<NUMVALUES; i++) {\n",
    "            Serial.print(1.0*times[i]/1000.0, 5);   // convert times to seconds and send\n",
    "            Serial.print(',');                      // put in a comma to separate values\n",
    "            Serial.println((5.0*data[i])/1023.0,4); // convert data to volts and send\n",
    "        }\n",
    "    }\n",
    "\n",
    "Which sends/prints the time in seconds along with the voltage measured (notice the scaling factor) at that time."
   ]
  },
  {
   "cell_type": "markdown",
   "metadata": {
    "deletable": true,
    "editable": true
   },
   "source": [
    "## What am I actually supposed to do?\n",
    "\n",
    "Your tasks:\n",
    "\n",
    "1. Set up the circuit shown below. Predict the time constant of your circuit and the slope of the graph of $\\ln(V_c)$ vs. $t$ for your components.\n",
    "\n",
    "2. Program your Arduino using the program snippets given above.\n",
    "\n",
    "2. Run the program to collect voltage vs. time data from the Arduino\n",
    "\n",
    "3. Analyze (use excel, ipython, whatever.)\n",
    "\n",
    "4. Compare results with expectations. Get the slope of the $\\ln(V_c)$ vs $t$ graph and compare with the value you expect from your analysis in part 1.\n",
    "\n",
    "5. Submit a project report (see sample) describing your results.\n",
    "\n",
    "<br/>\n",
    "<div align=\"center\">\n",
    "<img src=\"arduino_rc.png\" width=\"400\">\n",
    "<span>Fig 2: RC circuit for Arduino</span>\n",
    "</div>\n"
   ]
  },
  {
   "cell_type": "code",
   "execution_count": 6,
   "metadata": {
    "collapsed": false,
    "deletable": true,
    "editable": true
   },
   "outputs": [
    {
     "name": "stdout",
     "output_type": "stream",
     "text": [
      "m = -0.282 +/- 0.001\n",
      "b = 1.571 +/- 0.003\n"
     ]
    },
    {
     "data": {
      "image/png": "[encoded data removed]",
      "text/plain": [
       "<matplotlib.figure.Figure at 0x10a207d68>"
      ]
     },
     "metadata": {},
     "output_type": "display_data"
    }
   ],
   "source": [
    "#\n",
    "# This cell loads the data taken earlier and analyzes it by fitting the ln(Vc) vs. t to a straight line.\n",
    "#\n",
    "# You are welcome to use this approach if you like\n",
    "#\n",
    "\n",
    "import pandas as pd  # load up the pandas (pyData) package\n",
    "data = pd.read_csv('p1src/data.csv')  # read in the data taken previously\n",
    "from scipy.optimize import curve_fit  # get the curve_fit function from the scipy.optimize library\n",
    "\n",
    "def fLinear(x, m, b):\n",
    "    return m*x + b\n",
    "\n",
    "sigma = (5.0/1023.0)/(data.voltage.values)  # why am I doing this? If you're not sure, ask! You'll learn something.\n",
    "popt, pcov = curve_fit(fLinear, data.time.values, np.log(data.voltage.values), sigma=sigma)  # do the fit\n",
    "\n",
    "m=popt[0]          # get the slope\n",
    "b=popt[1]          # get the intercept\n",
    "\n",
    "dm = sqrt(pcov[0,0]) # uncertainty in the slope\n",
    "db = sqrt(pcov[1,1]) # uncertainty in the intercept\n",
    "\n",
    "ystar=fLinear(data.time.values, m, b)  # use m & b \n",
    "\n",
    "title(\"Decay of charge on a capacitor\")\n",
    "ylabel(\"ln(V)\")\n",
    "xlabel(\"time (ms)\")\n",
    "errorbar(data.time.values, np.log(data.voltage.values), fmt='b.', yerr=sigma)\n",
    "plot(data.time.values, ystar,'r-')\n",
    "grid()\n",
    "print(\"m = %2.3f +/- %2.3f\" % (m, dm))\n",
    "print(\"b = %2.3f +/- %2.3f\" % (b, db))\n"
   ]
  },
  {
   "cell_type": "markdown",
   "metadata": {
    "deletable": true,
    "editable": true
   },
   "source": [
    "Does this result seem reasonable? Why, or why not?"
   ]
  },
  {
   "cell_type": "code",
   "execution_count": 8,
   "metadata": {
    "collapsed": false,
    "deletable": true,
    "editable": true
   },
   "outputs": [],
   "source": []
  }
 ],
 "metadata": {
  "kernelspec": {
   "display_name": "Python 3",
   "language": "python",
   "name": "python3"
  },
  "language_info": {
   "codemirror_mode": {
    "name": "ipython",
    "version": 3
   },
   "file_extension": ".py",
   "mimetype": "text/x-python",
   "name": "python",
   "nbconvert_exporter": "python",
   "pygments_lexer": "ipython3",
   "version": "3.6.0"
  }
 },
 "nbformat": 4,
 "nbformat_minor": 0
}
